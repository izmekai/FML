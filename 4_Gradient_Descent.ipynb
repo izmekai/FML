{
 "cells": [
  {
   "cell_type": "code",
   "execution_count": 1,
   "id": "9d7ca54d",
   "metadata": {},
   "outputs": [],
   "source": [
    "def function(x):\n",
    "    return (x + 3) ** 2"
   ]
  },
  {
   "cell_type": "code",
   "execution_count": 2,
   "id": "a39356a3",
   "metadata": {},
   "outputs": [],
   "source": [
    "def gradient(x):\n",
    "    return 2 * (x + 3)"
   ]
  },
  {
   "cell_type": "code",
   "execution_count": 3,
   "id": "5a64f3fd",
   "metadata": {},
   "outputs": [
    {
     "name": "stdout",
     "output_type": "stream",
     "text": [
      "Local minimum at x = -2.999999998981482, y = 1.0373792396055266e-18\n"
     ]
    }
   ],
   "source": [
    "x = 2\n",
    "learning_rate = 0.1\n",
    "num_iterations = 100\n",
    "\n",
    "for i in range(num_iterations):\n",
    "    x = x - learning_rate * gradient(x)\n",
    "\n",
    "local_minimum = function(x)\n",
    "print(f'Local minimum at x = {x}, y = {local_minimum}')"
   ]
  },
  {
   "cell_type": "code",
   "execution_count": null,
   "id": "21507138",
   "metadata": {},
   "outputs": [],
   "source": []
  }
 ],
 "metadata": {
  "kernelspec": {
   "display_name": "Python 3 (ipykernel)",
   "language": "python",
   "name": "python3"
  },
  "language_info": {
   "codemirror_mode": {
    "name": "ipython",
    "version": 3
   },
   "file_extension": ".py",
   "mimetype": "text/x-python",
   "name": "python",
   "nbconvert_exporter": "python",
   "pygments_lexer": "ipython3",
   "version": "3.9.12"
  }
 },
 "nbformat": 4,
 "nbformat_minor": 5
}
